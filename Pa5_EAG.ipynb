{
 "cells": [
  {
   "cell_type": "markdown",
   "id": "630e486d",
   "metadata": {},
   "source": [
    "# Evan Gousha\n",
    "## Programming assignment 5\n",
    "### Cs150-02"
   ]
  },
  {
   "cell_type": "code",
   "execution_count": 24,
   "id": "c94a1fe3",
   "metadata": {},
   "outputs": [
    {
     "name": "stdout",
     "output_type": "stream",
     "text": [
      "Enter a word to translate from English to Dutch (enter 0 to stop):eye\n",
      "oog\n",
      "Enter a word to translate from English to Dutch (enter 0 to stop):chicken\n",
      "kip\n",
      "Enter a word to translate from English to Dutch (enter 0 to stop):head\n",
      "hoofd\n",
      "Enter a word to translate from English to Dutch (enter 0 to stop):couch\n",
      "The Dutch word for couch is not in this dictionary\n",
      "Enter a word to translate from English to Dutch (enter 0 to stop):chair\n",
      "stoel\n",
      "Enter a word to translate from English to Dutch (enter 0 to stop):cat\n",
      "The Dutch word for cat is not in this dictionary\n",
      "Enter a word to translate from English to Dutch (enter 0 to stop):dog\n",
      "The Dutch word for dog is not in this dictionary\n",
      "Enter a word to translate from English to Dutch (enter 0 to stop):0\n"
     ]
    }
   ],
   "source": [
    "translate=dict()\n",
    "translate={'chicken':'kip','chair':'stoel','bag':'tas',\n",
    "           'cow':'koe','car':'auto','head':'hoofd',\n",
    "          'light':'licht','eye':'oog','cheese':'kaas','platypus':'vogelbekdier',\n",
    "          'cup':'beker','phone':'telefoon','one':'een','two':'twee','three':'drie',\n",
    "          'tree':'boom','flower':'bloem','key':'toets','soda':'frisdrank',\n",
    "           'spoon':'lepel'}\n",
    "word=`str(input('Enter a word to translate from English to Dutch (enter 0 to stop):'))\n",
    "while word!='0':\n",
    "    if word not in translate.keys():\n",
    "        print('The Dutch word for',word,'is not in this dictionary')\n",
    "    else:            \n",
    "        print(translate.get(word))\n",
    "    word=str(input('Enter a word to translate from English to Dutch (enter 0 to stop):'))\n",
    "    \n"
   ]
  },
  {
   "cell_type": "code",
   "execution_count": 26,
   "id": "e0a55aab",
   "metadata": {},
   "outputs": [
    {
     "name": "stdout",
     "output_type": "stream",
     "text": [
      "the coldest day was: 22\n",
      "the second warmest day was: 14\n"
     ]
    }
   ],
   "source": [
    "temperature=dict()\n",
    "temperature={1:85,2:83,3:84,4:84,5:82,6:87,7:86,8:85,9:81,10:82,11:84,12:87,13:87,\n",
    "            14:88,15:84,16:85,17:89,18:87,19:86,20:78,21:78,22:70,23:71,24:75,25:74,\n",
    "            26:77,27:85,28:87,29:87,30:86}\n",
    "def celsius():\n",
    "    for x in temperature:\n",
    "        temperature[x]=(temperature[x]-32)*5/9\n",
    "celsius()\n",
    "daylist=list(temperature.keys())\n",
    "templist=list(temperature.values())\n",
    "cold=min(templist)\n",
    "secwarmest=(sorted(templist))[-2]\n",
    "for y in temperature:\n",
    "    if temperature[y]==cold:\n",
    "        print('the coldest day was:',y)\n",
    "for z in temperature:\n",
    "    if temperature[z]==secwarmest:\n",
    "        print('the second warmest day was:',z)\n",
    "\n"
   ]
  },
  {
   "cell_type": "markdown",
   "id": "3a91dab0",
   "metadata": {},
   "source": [
    "symmetric difference\n",
    "\n",
    "elements of both sets that are not in common with each other."
   ]
  },
  {
   "cell_type": "code",
   "execution_count": 84,
   "id": "a33b7125",
   "metadata": {},
   "outputs": [
    {
     "data": {
      "text/plain": [
       "{6, 8, 10, 12, 45, 56, 99}"
      ]
     },
     "execution_count": 84,
     "metadata": {},
     "output_type": "execute_result"
    }
   ],
   "source": [
    "SetA={2,5,7,23,56,23,5}\n",
    "SetB={2,8,6,5,45,12,23,7,10,99}\n",
    "SetA^SetB"
   ]
  },
  {
   "cell_type": "markdown",
   "id": "a98f11e9",
   "metadata": {},
   "source": [
    ".isdisjoint()\n",
    "\n",
    "Return True if no items in set A is present in set B"
   ]
  },
  {
   "cell_type": "code",
   "execution_count": 85,
   "id": "7a5ff4c0",
   "metadata": {},
   "outputs": [
    {
     "data": {
      "text/plain": [
       "False"
      ]
     },
     "execution_count": 85,
     "metadata": {},
     "output_type": "execute_result"
    }
   ],
   "source": [
    "SetA.isdisjoint(SetB)"
   ]
  },
  {
   "cell_type": "markdown",
   "id": "9a676554",
   "metadata": {},
   "source": [
    "intersection_update\n",
    "\n",
    "method removes the items that is not present in both sets"
   ]
  },
  {
   "cell_type": "code",
   "execution_count": 86,
   "id": "6ca81532",
   "metadata": {},
   "outputs": [],
   "source": [
    "SetA&=SetB"
   ]
  },
  {
   "cell_type": "code",
   "execution_count": 87,
   "id": "1ffa8359",
   "metadata": {},
   "outputs": [
    {
     "data": {
      "text/plain": [
       "{2, 5, 7, 23}"
      ]
     },
     "execution_count": 87,
     "metadata": {},
     "output_type": "execute_result"
    }
   ],
   "source": [
    "SetA"
   ]
  },
  {
   "cell_type": "markdown",
   "id": "2f5c2891",
   "metadata": {},
   "source": [
    "Symmetric Difference (^=)\n",
    "\n",
    "method returns a set that contains all items from both set, but not the items that are present in both sets"
   ]
  },
  {
   "cell_type": "code",
   "execution_count": 88,
   "id": "4c5a1fb4",
   "metadata": {},
   "outputs": [],
   "source": [
    "SetA={2,5,7,23,56,23,5}\n",
    "SetB={2,8,6,5,45,12,23,7,10,99}\n",
    "SetA^=SetB"
   ]
  },
  {
   "cell_type": "code",
   "execution_count": 89,
   "id": "abbac4c5",
   "metadata": {},
   "outputs": [
    {
     "data": {
      "text/plain": [
       "{6, 8, 10, 12, 45, 56, 99}"
      ]
     },
     "execution_count": 89,
     "metadata": {},
     "output_type": "execute_result"
    }
   ],
   "source": [
    "SetA"
   ]
  },
  {
   "cell_type": "markdown",
   "id": "43d4bb40",
   "metadata": {},
   "source": [
    "remove()/discard()-will remove a specified element from the set, works the same, except discard will not generate an error.\n",
    "\n",
    "pop()-get random element - this removes the element from the set."
   ]
  },
  {
   "cell_type": "code",
   "execution_count": 90,
   "id": "05a41c76",
   "metadata": {},
   "outputs": [
    {
     "data": {
      "text/plain": [
       "{8, 10, 12, 45, 56, 99}"
      ]
     },
     "execution_count": 90,
     "metadata": {},
     "output_type": "execute_result"
    }
   ],
   "source": [
    "SetA.remove(6)\n",
    "SetA"
   ]
  },
  {
   "cell_type": "code",
   "execution_count": 91,
   "id": "5ec26ab3",
   "metadata": {},
   "outputs": [],
   "source": [
    "SetA.discard(8)"
   ]
  },
  {
   "cell_type": "code",
   "execution_count": 92,
   "id": "29eece74",
   "metadata": {},
   "outputs": [
    {
     "data": {
      "text/plain": [
       "{10, 12, 45, 56, 99}"
      ]
     },
     "execution_count": 92,
     "metadata": {},
     "output_type": "execute_result"
    }
   ],
   "source": [
    "SetA"
   ]
  },
  {
   "cell_type": "code",
   "execution_count": 93,
   "id": "893373e0",
   "metadata": {},
   "outputs": [
    {
     "data": {
      "text/plain": [
       "{10, 12, 45, 56}"
      ]
     },
     "execution_count": 93,
     "metadata": {},
     "output_type": "execute_result"
    }
   ],
   "source": [
    "SetA.pop()\n",
    "SetA"
   ]
  },
  {
   "cell_type": "code",
   "execution_count": null,
   "id": "8d03e5cd",
   "metadata": {},
   "outputs": [],
   "source": []
  }
 ],
 "metadata": {
  "kernelspec": {
   "display_name": "Python 3",
   "language": "python",
   "name": "python3"
  },
  "language_info": {
   "codemirror_mode": {
    "name": "ipython",
    "version": 3
   },
   "file_extension": ".py",
   "mimetype": "text/x-python",
   "name": "python",
   "nbconvert_exporter": "python",
   "pygments_lexer": "ipython3",
   "version": "3.8.8"
  }
 },
 "nbformat": 4,
 "nbformat_minor": 5
}
